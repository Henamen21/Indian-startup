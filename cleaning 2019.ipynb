{
 "cells": [
  {
   "cell_type": "markdown",
   "id": "08ebc30f",
   "metadata": {},
   "source": [
    "Importing pandas"
   ]
  },
  {
   "cell_type": "code",
   "execution_count": 1,
   "id": "9d6d4946",
   "metadata": {},
   "outputs": [],
   "source": [
    "import pandas as pd"
   ]
  },
  {
   "cell_type": "markdown",
   "id": "34358181",
   "metadata": {},
   "source": [
    "Loading data"
   ]
  },
  {
   "cell_type": "code",
   "execution_count": 2,
   "id": "8bc852b1",
   "metadata": {},
   "outputs": [],
   "source": [
    "df = pd.read_csv(\"startup_funding2019.csv\")"
   ]
  },
  {
   "cell_type": "code",
   "execution_count": 3,
   "id": "75a9b84e",
   "metadata": {},
   "outputs": [
    {
     "data": {
      "text/html": [
       "<div>\n",
       "<style scoped>\n",
       "    .dataframe tbody tr th:only-of-type {\n",
       "        vertical-align: middle;\n",
       "    }\n",
       "\n",
       "    .dataframe tbody tr th {\n",
       "        vertical-align: top;\n",
       "    }\n",
       "\n",
       "    .dataframe thead th {\n",
       "        text-align: right;\n",
       "    }\n",
       "</style>\n",
       "<table border=\"1\" class=\"dataframe\">\n",
       "  <thead>\n",
       "    <tr style=\"text-align: right;\">\n",
       "      <th></th>\n",
       "      <th>Company Name</th>\n",
       "      <th>Sector</th>\n",
       "      <th>Series</th>\n",
       "      <th>City</th>\n",
       "      <th>Founded</th>\n",
       "      <th>About Company</th>\n",
       "      <th>Founders</th>\n",
       "      <th>Investor</th>\n",
       "      <th>Amount($)</th>\n",
       "    </tr>\n",
       "  </thead>\n",
       "  <tbody>\n",
       "    <tr>\n",
       "      <th>0</th>\n",
       "      <td>Bombay Shaving</td>\n",
       "      <td>Ecommerce</td>\n",
       "      <td>NaN</td>\n",
       "      <td>NaN</td>\n",
       "      <td>NaN</td>\n",
       "      <td>Provides a range of male grooming products</td>\n",
       "      <td>Shantanu Deshpande</td>\n",
       "      <td>Sixth Sense Ventures</td>\n",
       "      <td>$6,300,000</td>\n",
       "    </tr>\n",
       "    <tr>\n",
       "      <th>1</th>\n",
       "      <td>Ruangguru</td>\n",
       "      <td>Edtech</td>\n",
       "      <td>Series C</td>\n",
       "      <td>Mumbai</td>\n",
       "      <td>2014.0</td>\n",
       "      <td>A learning platform that provides topic-based ...</td>\n",
       "      <td>Adamas Belva Syah Devara, Iman Usman.</td>\n",
       "      <td>General Atlantic</td>\n",
       "      <td>$150,000,000</td>\n",
       "    </tr>\n",
       "    <tr>\n",
       "      <th>2</th>\n",
       "      <td>Eduisfun</td>\n",
       "      <td>Edtech</td>\n",
       "      <td>Fresh funding</td>\n",
       "      <td>Mumbai</td>\n",
       "      <td>NaN</td>\n",
       "      <td>It aims to make learning fun via games.</td>\n",
       "      <td>Jatin Solanki</td>\n",
       "      <td>Deepak Parekh, Amitabh Bachchan, Piyush Pandey</td>\n",
       "      <td>$28,000,000</td>\n",
       "    </tr>\n",
       "    <tr>\n",
       "      <th>3</th>\n",
       "      <td>HomeLane</td>\n",
       "      <td>Interior design</td>\n",
       "      <td>Series D</td>\n",
       "      <td>Chennai</td>\n",
       "      <td>2014.0</td>\n",
       "      <td>Provides interior designing solutions</td>\n",
       "      <td>Srikanth Iyer, Rama Harinath</td>\n",
       "      <td>Evolvence India Fund (EIF), Pidilite Group, FJ...</td>\n",
       "      <td>$30,000,000</td>\n",
       "    </tr>\n",
       "    <tr>\n",
       "      <th>4</th>\n",
       "      <td>Nu Genes</td>\n",
       "      <td>AgriTech</td>\n",
       "      <td>NaN</td>\n",
       "      <td>Telangana</td>\n",
       "      <td>2004.0</td>\n",
       "      <td>It is a seed company engaged in production, pr...</td>\n",
       "      <td>Narayana Reddy Punyala</td>\n",
       "      <td>Innovation in Food and Agriculture (IFA)</td>\n",
       "      <td>$6,000,000</td>\n",
       "    </tr>\n",
       "  </tbody>\n",
       "</table>\n",
       "</div>"
      ],
      "text/plain": [
       "     Company Name           Sector         Series       City  Founded  \\\n",
       "0  Bombay Shaving        Ecommerce            NaN        NaN      NaN   \n",
       "1       Ruangguru           Edtech       Series C     Mumbai   2014.0   \n",
       "2        Eduisfun           Edtech  Fresh funding     Mumbai      NaN   \n",
       "3        HomeLane  Interior design       Series D    Chennai   2014.0   \n",
       "4        Nu Genes         AgriTech            NaN  Telangana   2004.0   \n",
       "\n",
       "                                       About Company  \\\n",
       "0         Provides a range of male grooming products   \n",
       "1  A learning platform that provides topic-based ...   \n",
       "2            It aims to make learning fun via games.   \n",
       "3              Provides interior designing solutions   \n",
       "4  It is a seed company engaged in production, pr...   \n",
       "\n",
       "                                Founders  \\\n",
       "0                     Shantanu Deshpande   \n",
       "1  Adamas Belva Syah Devara, Iman Usman.   \n",
       "2                          Jatin Solanki   \n",
       "3           Srikanth Iyer, Rama Harinath   \n",
       "4                 Narayana Reddy Punyala   \n",
       "\n",
       "                                            Investor      Amount($)  \n",
       "0                               Sixth Sense Ventures    $6,300,000   \n",
       "1                                   General Atlantic  $150,000,000   \n",
       "2     Deepak Parekh, Amitabh Bachchan, Piyush Pandey   $28,000,000   \n",
       "3  Evolvence India Fund (EIF), Pidilite Group, FJ...   $30,000,000   \n",
       "4           Innovation in Food and Agriculture (IFA)    $6,000,000   "
      ]
     },
     "execution_count": 3,
     "metadata": {},
     "output_type": "execute_result"
    }
   ],
   "source": [
    "df.head()"
   ]
  },
  {
   "cell_type": "code",
   "execution_count": 4,
   "id": "f81b4df4",
   "metadata": {},
   "outputs": [
    {
     "data": {
      "text/plain": [
       "Company Name     False\n",
       "Sector            True\n",
       "Series            True\n",
       "City              True\n",
       "Founded           True\n",
       "About Company    False\n",
       "Founders          True\n",
       "Investor         False\n",
       "Amount($)        False\n",
       "dtype: bool"
      ]
     },
     "execution_count": 4,
     "metadata": {},
     "output_type": "execute_result"
    }
   ],
   "source": [
    "df.isnull().any()"
   ]
  },
  {
   "cell_type": "markdown",
   "id": "90f6be89",
   "metadata": {},
   "source": [
    "Except the \"Company Name\" and \"About Company\" column all columns has a null value"
   ]
  },
  {
   "cell_type": "markdown",
   "id": "48574281",
   "metadata": {},
   "source": [
    "# Handling column \"Sector\""
   ]
  },
  {
   "cell_type": "code",
   "execution_count": 5,
   "id": "b9bfcdcb",
   "metadata": {},
   "outputs": [
    {
     "data": {
      "text/plain": [
       "5"
      ]
     },
     "execution_count": 5,
     "metadata": {},
     "output_type": "execute_result"
    }
   ],
   "source": [
    "df[\"Sector\"].isnull().sum()"
   ]
  },
  {
   "cell_type": "markdown",
   "id": "43e7d754",
   "metadata": {},
   "source": [
    "We have found 212 empty values. we can replaced them by either by mode or mean of the column. our method is going to copy the column and work for calculation mean and mode."
   ]
  },
  {
   "cell_type": "code",
   "execution_count": 6,
   "id": "22753317",
   "metadata": {},
   "outputs": [],
   "source": [
    "my_record = df.Sector # copying the column"
   ]
  },
  {
   "cell_type": "code",
   "execution_count": 7,
   "id": "f5617ba0",
   "metadata": {},
   "outputs": [
    {
     "data": {
      "text/plain": [
       "array(['Ecommerce', 'Edtech', 'Interior design', 'AgriTech', 'Technology',\n",
       "       'SaaS', 'AI & Tech', 'E-commerce', 'E-commerce & AR', 'Fintech',\n",
       "       'HR tech', 'Food tech', 'Health', 'Healthcare', 'Safety tech',\n",
       "       'Pharmaceutical', 'Insurance technology', 'AI', 'Foodtech', 'Food',\n",
       "       'IoT', 'E-marketplace', 'Robotics & AI', 'Logistics', 'Travel',\n",
       "       'Manufacturing', 'Food & Nutrition', 'Social Media', nan,\n",
       "       'E-Sports', 'Cosmetics', 'B2B', 'Jewellery', 'B2B Supply Chain',\n",
       "       'Games', 'Food & tech', 'Accomodation', 'Automotive tech',\n",
       "       'Legal tech', 'Mutual Funds', 'Cybersecurity', 'Automobile',\n",
       "       'Sports', 'Healthtech', 'Yoga & wellness', 'Virtual Banking',\n",
       "       'Transportation', 'Transport & Rentals',\n",
       "       'Marketing & Customer loyalty', 'Infratech', 'Hospitality',\n",
       "       'Automobile & Technology', 'Banking'], dtype=object)"
      ]
     },
     "execution_count": 7,
     "metadata": {},
     "output_type": "execute_result"
    }
   ],
   "source": [
    "my_record.unique()"
   ]
  },
  {
   "cell_type": "code",
   "execution_count": 8,
   "id": "1397f8d5",
   "metadata": {},
   "outputs": [],
   "source": [
    "mod_val = my_record.mode()[0]"
   ]
  },
  {
   "cell_type": "code",
   "execution_count": 9,
   "id": "46715743",
   "metadata": {},
   "outputs": [],
   "source": [
    "my_record = my_record.fillna(mod_val)"
   ]
  },
  {
   "cell_type": "markdown",
   "id": "d3f00aad",
   "metadata": {},
   "source": [
    "We are going to fill nan value with the most frequent reesult"
   ]
  },
  {
   "cell_type": "code",
   "execution_count": 10,
   "id": "f3cc60b2",
   "metadata": {},
   "outputs": [
    {
     "data": {
      "text/plain": [
       "False"
      ]
     },
     "execution_count": 10,
     "metadata": {},
     "output_type": "execute_result"
    }
   ],
   "source": [
    "my_record.isnull().any()"
   ]
  },
  {
   "cell_type": "markdown",
   "id": "ecbe1a60",
   "metadata": {},
   "source": [
    "# Handling column \"Series\""
   ]
  },
  {
   "cell_type": "code",
   "execution_count": 11,
   "id": "d0af7a97",
   "metadata": {
    "scrolled": true
   },
   "outputs": [
    {
     "data": {
      "text/plain": [
       "46"
      ]
     },
     "execution_count": 11,
     "metadata": {},
     "output_type": "execute_result"
    }
   ],
   "source": [
    "df.Series.isna().sum()"
   ]
  },
  {
   "cell_type": "code",
   "execution_count": 12,
   "id": "80823a0c",
   "metadata": {},
   "outputs": [],
   "source": [
    "mod_val = df.Series.mode()"
   ]
  },
  {
   "cell_type": "code",
   "execution_count": 13,
   "id": "750c57f0",
   "metadata": {},
   "outputs": [],
   "source": [
    "# collecting nan value index\n",
    "na = []\n",
    "for i in range(df.shape[0]):\n",
    "    if df.Series.isnull()[i] == True:\n",
    "        na.append(i)"
   ]
  },
  {
   "cell_type": "code",
   "execution_count": 14,
   "id": "2d91694d",
   "metadata": {},
   "outputs": [
    {
     "name": "stderr",
     "output_type": "stream",
     "text": [
      "C:\\Users\\hp\\AppData\\Local\\Temp\\ipykernel_7816\\947302051.py:2: SettingWithCopyWarning: \n",
      "A value is trying to be set on a copy of a slice from a DataFrame\n",
      "\n",
      "See the caveats in the documentation: https://pandas.pydata.org/pandas-docs/stable/user_guide/indexing.html#returning-a-view-versus-a-copy\n",
      "  df.Series[na[i]] = mod_val # replacing \"nan\" with mode value\n"
     ]
    }
   ],
   "source": [
    "for i in range(len(na)):\n",
    "    df.Series[na[i]] = mod_val # replacing \"nan\" with mode value"
   ]
  },
  {
   "cell_type": "markdown",
   "id": "aaf2d7ca",
   "metadata": {},
   "source": [
    "# Handling column \"City\""
   ]
  },
  {
   "cell_type": "code",
   "execution_count": 15,
   "id": "cc63e7c6",
   "metadata": {},
   "outputs": [
    {
     "data": {
      "text/plain": [
       "19"
      ]
     },
     "execution_count": 15,
     "metadata": {},
     "output_type": "execute_result"
    }
   ],
   "source": [
    "df.City.isna().sum()"
   ]
  },
  {
   "cell_type": "code",
   "execution_count": 16,
   "id": "f1894c17",
   "metadata": {},
   "outputs": [
    {
     "data": {
      "text/plain": [
       "array([nan, 'Mumbai', 'Chennai', 'Telangana', 'Pune', 'Bangalore',\n",
       "       'Noida', 'Delhi', 'Ahmedabad', 'Gurugram', 'Haryana', 'Chandigarh',\n",
       "       'Jaipur', 'New Delhi', 'Surat', 'Uttar pradesh', 'Hyderabad',\n",
       "       'Rajasthan'], dtype=object)"
      ]
     },
     "execution_count": 16,
     "metadata": {},
     "output_type": "execute_result"
    }
   ],
   "source": [
    "df.City.unique()"
   ]
  },
  {
   "cell_type": "markdown",
   "id": "d587c182",
   "metadata": {},
   "source": [
    "We need to replace them by \"nan\""
   ]
  },
  {
   "cell_type": "code",
   "execution_count": 17,
   "id": "18cf893d",
   "metadata": {},
   "outputs": [],
   "source": [
    "mod_val = df.City.mode()[0]"
   ]
  },
  {
   "cell_type": "code",
   "execution_count": 18,
   "id": "66888f11",
   "metadata": {},
   "outputs": [
    {
     "data": {
      "text/plain": [
       "'Bangalore'"
      ]
     },
     "execution_count": 18,
     "metadata": {},
     "output_type": "execute_result"
    }
   ],
   "source": [
    "mod_val"
   ]
  },
  {
   "cell_type": "code",
   "execution_count": 19,
   "id": "4cf59622",
   "metadata": {},
   "outputs": [],
   "source": [
    "# collecting nan value index\n",
    "na = []\n",
    "for i in range(df.shape[0]):\n",
    "    if df.City.isnull()[i] == True:\n",
    "        na.append(i)"
   ]
  },
  {
   "cell_type": "code",
   "execution_count": 20,
   "id": "c08be9cb",
   "metadata": {},
   "outputs": [
    {
     "name": "stderr",
     "output_type": "stream",
     "text": [
      "C:\\Users\\hp\\AppData\\Local\\Temp\\ipykernel_7816\\2898883366.py:2: SettingWithCopyWarning: \n",
      "A value is trying to be set on a copy of a slice from a DataFrame\n",
      "\n",
      "See the caveats in the documentation: https://pandas.pydata.org/pandas-docs/stable/user_guide/indexing.html#returning-a-view-versus-a-copy\n",
      "  df.City[na[i]] = mod_val # replacing \"nan\" with mode value\n"
     ]
    }
   ],
   "source": [
    "for i in range(len(na)):\n",
    "    df.City[na[i]] = mod_val # replacing \"nan\" with mode value"
   ]
  },
  {
   "cell_type": "code",
   "execution_count": 21,
   "id": "3498c437",
   "metadata": {},
   "outputs": [
    {
     "data": {
      "text/plain": [
       "0"
      ]
     },
     "execution_count": 21,
     "metadata": {},
     "output_type": "execute_result"
    }
   ],
   "source": [
    "df.City.isna().sum()"
   ]
  },
  {
   "cell_type": "code",
   "execution_count": 22,
   "id": "8580b2bc",
   "metadata": {},
   "outputs": [
    {
     "data": {
      "text/plain": [
       "array(['Bangalore', 'Mumbai', 'Chennai', 'Telangana', 'Pune', 'Noida',\n",
       "       'Delhi', 'Ahmedabad', 'Gurugram', 'Haryana', 'Chandigarh',\n",
       "       'Jaipur', 'New Delhi', 'Surat', 'Uttar pradesh', 'Hyderabad',\n",
       "       'Rajasthan'], dtype=object)"
      ]
     },
     "execution_count": 22,
     "metadata": {},
     "output_type": "execute_result"
    }
   ],
   "source": [
    "df.City.unique()"
   ]
  },
  {
   "cell_type": "markdown",
   "id": "091eb163",
   "metadata": {},
   "source": [
    "# Handling column \"Founded\""
   ]
  },
  {
   "cell_type": "code",
   "execution_count": 23,
   "id": "4cec7cdc",
   "metadata": {},
   "outputs": [
    {
     "data": {
      "text/plain": [
       "29"
      ]
     },
     "execution_count": 23,
     "metadata": {},
     "output_type": "execute_result"
    }
   ],
   "source": [
    "df.Founded.isna().sum()"
   ]
  },
  {
   "cell_type": "code",
   "execution_count": 24,
   "id": "3e777cbd",
   "metadata": {},
   "outputs": [],
   "source": [
    "my_record = df.Founded # copying the column to calculate median"
   ]
  },
  {
   "cell_type": "code",
   "execution_count": 25,
   "id": "b09ab511",
   "metadata": {},
   "outputs": [],
   "source": [
    "my_record = my_record.dropna() # droping \"nan\" from the column to calculate median"
   ]
  },
  {
   "cell_type": "code",
   "execution_count": 26,
   "id": "a47ec5ab",
   "metadata": {},
   "outputs": [
    {
     "data": {
      "text/plain": [
       "2015.0"
      ]
     },
     "execution_count": 26,
     "metadata": {},
     "output_type": "execute_result"
    }
   ],
   "source": [
    "my_record.median() # 2015 is the median"
   ]
  },
  {
   "cell_type": "code",
   "execution_count": 27,
   "id": "92bb08c1",
   "metadata": {},
   "outputs": [],
   "source": [
    "df.Founded = df.Founded.fillna(2015)"
   ]
  },
  {
   "cell_type": "code",
   "execution_count": 28,
   "id": "adba102e",
   "metadata": {},
   "outputs": [
    {
     "data": {
      "text/plain": [
       "0"
      ]
     },
     "execution_count": 28,
     "metadata": {},
     "output_type": "execute_result"
    }
   ],
   "source": [
    "df.Founded.isna().sum()"
   ]
  },
  {
   "cell_type": "markdown",
   "id": "fdedafdb",
   "metadata": {},
   "source": [
    "# Handling column \"Founders\""
   ]
  },
  {
   "cell_type": "code",
   "execution_count": 29,
   "id": "fecd4613",
   "metadata": {},
   "outputs": [
    {
     "data": {
      "text/plain": [
       "3"
      ]
     },
     "execution_count": 29,
     "metadata": {},
     "output_type": "execute_result"
    }
   ],
   "source": [
    "df.Founders.isna().sum()"
   ]
  },
  {
   "cell_type": "markdown",
   "id": "f74e4d18",
   "metadata": {},
   "source": [
    "Since column \"Founders\" is usefull column it does not be affected by mean or median. we just drop the rename it as \"Unkown\""
   ]
  },
  {
   "cell_type": "code",
   "execution_count": 30,
   "id": "4761a670",
   "metadata": {},
   "outputs": [],
   "source": [
    "df.Founders.dropna().inplace=True"
   ]
  },
  {
   "cell_type": "code",
   "execution_count": 31,
   "id": "5794ef8f",
   "metadata": {},
   "outputs": [
    {
     "data": {
      "text/plain": [
       "False"
      ]
     },
     "execution_count": 31,
     "metadata": {},
     "output_type": "execute_result"
    }
   ],
   "source": [
    "df.Founders.isnull()[0]"
   ]
  },
  {
   "cell_type": "code",
   "execution_count": 32,
   "id": "575b4a80",
   "metadata": {},
   "outputs": [],
   "source": [
    "# collecting na values\n",
    "na = []\n",
    "for i in range(df.shape[0]):\n",
    "    if df.Founders.isnull()[i] == True:\n",
    "        na.append(i)"
   ]
  },
  {
   "cell_type": "code",
   "execution_count": 33,
   "id": "7e8e4549",
   "metadata": {},
   "outputs": [
    {
     "name": "stderr",
     "output_type": "stream",
     "text": [
      "C:\\Users\\hp\\AppData\\Local\\Temp\\ipykernel_7816\\456150993.py:2: SettingWithCopyWarning: \n",
      "A value is trying to be set on a copy of a slice from a DataFrame\n",
      "\n",
      "See the caveats in the documentation: https://pandas.pydata.org/pandas-docs/stable/user_guide/indexing.html#returning-a-view-versus-a-copy\n",
      "  df.Founders[na[i]] = \"Unknown\"\n"
     ]
    }
   ],
   "source": [
    "for i in range(len(na)):\n",
    "    df.Founders[na[i]] = \"Unknown\""
   ]
  },
  {
   "cell_type": "code",
   "execution_count": 34,
   "id": "d18da779",
   "metadata": {},
   "outputs": [
    {
     "data": {
      "text/plain": [
       "False"
      ]
     },
     "execution_count": 34,
     "metadata": {},
     "output_type": "execute_result"
    }
   ],
   "source": [
    "df.Founders.isnull()[0]"
   ]
  },
  {
   "cell_type": "code",
   "execution_count": 35,
   "id": "204b16ff",
   "metadata": {},
   "outputs": [
    {
     "data": {
      "text/plain": [
       "Company Name     False\n",
       "Sector            True\n",
       "Series           False\n",
       "City             False\n",
       "Founded          False\n",
       "About Company    False\n",
       "Founders         False\n",
       "Investor         False\n",
       "Amount($)        False\n",
       "dtype: bool"
      ]
     },
     "execution_count": 35,
     "metadata": {},
     "output_type": "execute_result"
    }
   ],
   "source": [
    "df.isnull().any()"
   ]
  },
  {
   "cell_type": "markdown",
   "id": "c8a0ec1a",
   "metadata": {},
   "source": [
    "# Handling column \"Sector\""
   ]
  },
  {
   "cell_type": "code",
   "execution_count": 36,
   "id": "f082cd81",
   "metadata": {},
   "outputs": [
    {
     "data": {
      "text/plain": [
       "5"
      ]
     },
     "execution_count": 36,
     "metadata": {},
     "output_type": "execute_result"
    }
   ],
   "source": [
    "df.Sector.isnull().sum()"
   ]
  },
  {
   "cell_type": "code",
   "execution_count": 37,
   "id": "e669a01f",
   "metadata": {},
   "outputs": [
    {
     "data": {
      "text/plain": [
       "array(['Ecommerce', 'Edtech', 'Interior design', 'AgriTech', 'Technology',\n",
       "       'SaaS', 'AI & Tech', 'E-commerce', 'E-commerce & AR', 'Fintech',\n",
       "       'HR tech', 'Food tech', 'Health', 'Healthcare', 'Safety tech',\n",
       "       'Pharmaceutical', 'Insurance technology', 'AI', 'Foodtech', 'Food',\n",
       "       'IoT', 'E-marketplace', 'Robotics & AI', 'Logistics', 'Travel',\n",
       "       'Manufacturing', 'Food & Nutrition', 'Social Media', nan,\n",
       "       'E-Sports', 'Cosmetics', 'B2B', 'Jewellery', 'B2B Supply Chain',\n",
       "       'Games', 'Food & tech', 'Accomodation', 'Automotive tech',\n",
       "       'Legal tech', 'Mutual Funds', 'Cybersecurity', 'Automobile',\n",
       "       'Sports', 'Healthtech', 'Yoga & wellness', 'Virtual Banking',\n",
       "       'Transportation', 'Transport & Rentals',\n",
       "       'Marketing & Customer loyalty', 'Infratech', 'Hospitality',\n",
       "       'Automobile & Technology', 'Banking'], dtype=object)"
      ]
     },
     "execution_count": 37,
     "metadata": {},
     "output_type": "execute_result"
    }
   ],
   "source": [
    "df.Sector.unique()"
   ]
  },
  {
   "cell_type": "code",
   "execution_count": 38,
   "id": "d87c1de3",
   "metadata": {},
   "outputs": [],
   "source": [
    "mod_val = df.Sector.mode()[0]"
   ]
  },
  {
   "cell_type": "code",
   "execution_count": 39,
   "id": "8602a0a3",
   "metadata": {},
   "outputs": [],
   "source": [
    "df.Sector = df.Sector.fillna(mod_val)"
   ]
  },
  {
   "cell_type": "code",
   "execution_count": 40,
   "id": "b81d6de7",
   "metadata": {},
   "outputs": [
    {
     "data": {
      "text/plain": [
       "0"
      ]
     },
     "execution_count": 40,
     "metadata": {},
     "output_type": "execute_result"
    }
   ],
   "source": [
    "df.Sector.isnull().sum()"
   ]
  },
  {
   "cell_type": "code",
   "execution_count": 41,
   "id": "ded72802",
   "metadata": {},
   "outputs": [
    {
     "data": {
      "text/plain": [
       "0       $6,300,000 \n",
       "1     $150,000,000 \n",
       "2      $28,000,000 \n",
       "3      $30,000,000 \n",
       "4       $6,000,000 \n",
       "          ...      \n",
       "84     $20,000,000 \n",
       "85    $693,000,000 \n",
       "86      $5,000,000 \n",
       "87     $50,000,000 \n",
       "88     $33,000,000 \n",
       "Name: Amount($), Length: 89, dtype: object"
      ]
     },
     "execution_count": 41,
     "metadata": {},
     "output_type": "execute_result"
    }
   ],
   "source": [
    "df[\"Amount($)\"]"
   ]
  },
  {
   "cell_type": "code",
   "execution_count": 42,
   "id": "645a91b0",
   "metadata": {},
   "outputs": [],
   "source": [
    "df[\"Amount($)\"] = df[\"Amount($)\"].apply(lambda x : x[1:]) # eliminating \"$\" sign"
   ]
  },
  {
   "cell_type": "code",
   "execution_count": 43,
   "id": "9f972e00",
   "metadata": {},
   "outputs": [],
   "source": [
    "df[\"Amount($)\"] = df[\"Amount($)\"].apply(lambda x: x.replace(',', '')) # removing comma"
   ]
  },
  {
   "cell_type": "code",
   "execution_count": 44,
   "id": "8353ead1",
   "metadata": {},
   "outputs": [],
   "source": [
    "df[\"Amount($)\"] = df[\"Amount($)\"].replace(\"ndisclosed\", \"0\") # substituting string"
   ]
  },
  {
   "cell_type": "code",
   "execution_count": 46,
   "id": "30f7fa8c",
   "metadata": {},
   "outputs": [],
   "source": [
    "df[\"Amount($)\"] = df[\"Amount($)\"].astype(float) # converting to float"
   ]
  },
  {
   "cell_type": "code",
   "execution_count": 47,
   "id": "63867816",
   "metadata": {},
   "outputs": [
    {
     "data": {
      "text/plain": [
       "Index(['Company Name', 'Sector', 'Series', 'City', 'Founded', 'About Company',\n",
       "       'Founders', 'Investor', 'Amount($)'],\n",
       "      dtype='object')"
      ]
     },
     "execution_count": 47,
     "metadata": {},
     "output_type": "execute_result"
    }
   ],
   "source": [
    "df.columns"
   ]
  },
  {
   "cell_type": "code",
   "execution_count": 48,
   "id": "b51c52e3",
   "metadata": {},
   "outputs": [],
   "source": [
    "df.Series = df.Series.apply(lambda x: str(x).replace(\"0    \",\"\")) # removing comma"
   ]
  },
  {
   "cell_type": "code",
   "execution_count": 49,
   "id": "9662255d",
   "metadata": {},
   "outputs": [],
   "source": [
    "df.Series = df.Series.apply(lambda x: str(x).replace(\"0    \",\"\")) # removing comma"
   ]
  },
  {
   "cell_type": "code",
   "execution_count": 50,
   "id": "32db1905",
   "metadata": {},
   "outputs": [],
   "source": [
    "df.Series = df.Series.apply(lambda x: str(x).replace(\"\\nName: Series, dtype: object\",\"\")) # removing uncecessary strings"
   ]
  },
  {
   "cell_type": "code",
   "execution_count": 51,
   "id": "83dc7848",
   "metadata": {},
   "outputs": [
    {
     "data": {
      "text/plain": [
       "'Series A'"
      ]
     },
     "execution_count": 51,
     "metadata": {},
     "output_type": "execute_result"
    }
   ],
   "source": [
    "df.Series[4]"
   ]
  },
  {
   "cell_type": "markdown",
   "id": "c6f82f9f",
   "metadata": {},
   "source": [
    "# Renaming columns"
   ]
  },
  {
   "cell_type": "code",
   "execution_count": 52,
   "id": "69856d69",
   "metadata": {},
   "outputs": [
    {
     "data": {
      "text/plain": [
       "Index(['Company Name', 'Sector', 'Series', 'City', 'Founded', 'About Company',\n",
       "       'Founders', 'Investor', 'Amount($)'],\n",
       "      dtype='object')"
      ]
     },
     "execution_count": 52,
     "metadata": {},
     "output_type": "execute_result"
    }
   ],
   "source": [
    "df.columns"
   ]
  },
  {
   "cell_type": "code",
   "execution_count": 53,
   "id": "a861230f",
   "metadata": {},
   "outputs": [],
   "source": [
    "df = df.rename(columns={\"About Company\": \"What it does\"})"
   ]
  },
  {
   "cell_type": "code",
   "execution_count": 54,
   "id": "db554c6b",
   "metadata": {},
   "outputs": [],
   "source": [
    "file_name = \"cleaned 2019.xlsx\"\n",
    "\n",
    "df.to_excel(file_name)"
   ]
  }
 ],
 "metadata": {
  "kernelspec": {
   "display_name": "Python 3 (ipykernel)",
   "language": "python",
   "name": "python3"
  },
  "language_info": {
   "codemirror_mode": {
    "name": "ipython",
    "version": 3
   },
   "file_extension": ".py",
   "mimetype": "text/x-python",
   "name": "python",
   "nbconvert_exporter": "python",
   "pygments_lexer": "ipython3",
   "version": "3.9.13"
  }
 },
 "nbformat": 4,
 "nbformat_minor": 5
}
